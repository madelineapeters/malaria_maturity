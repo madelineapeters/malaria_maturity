{
 "cells": [
  {
   "cell_type": "markdown",
   "metadata": {},
   "source": [
    "### Mathematical model of impaired parasite maturation\n",
    "To capture the slower-aging, use an age-structured partial differential equation that allows parasite maturation rate to vary"
   ]
  },
  {
   "cell_type": "markdown",
   "metadata": {},
   "source": [
    "###### Construct a model for the disappearance from peripheral circulation of DDAO RBCs and GFP+ parasites, including:\n",
    "- change in density due to rupture (based on age x) \n",
    "- change in density due to host-parasite interactions"
   ]
  },
  {
   "cell_type": "markdown",
   "metadata": {},
   "source": [
    "### Parasite density and number parameters"
   ]
  },
  {
   "cell_type": "code",
   "execution_count": null,
   "metadata": {
    "collapsed": true
   },
   "outputs": [],
   "source": [
    "#Total number of RBCs post-transfusion\n",
    "RBC.tot <-\n",
    "\n",
    "#Number of parasitised RBCs (GFP+) transferred from donor at t = 0\n",
    "para.d <-\n",
    "#Proportion of total RBCs in recipient after transfusion that are from donor and GFP+\n",
    "para.d.rel <- para.d/RBC.tot\n",
    "\n",
    "#Number of parasitised RBCs in recipient at t = 0\n",
    "para.r <- 0.042\n",
    "#Proportion of total RBCs in recipient after transfusion that are from recipient (i.e., GFP-)\n",
    "para.r.rel <- para.r/RBC.tot\n",
    "\n",
    "#Starting concentration of GFP+ parasites (equal to proportion total DDAO/GFP+ RBCs)\n",
    "P0 <- para.d.rel\n",
    "\n",
    "#Proportion of parasites (GFP+) from donor at t = 0\n",
    "prop.d <- para.d/(para.d+para.r)\n",
    "\n",
    "#Average number of RBCs becoming infected from every rupturing parasite\n",
    "B <- 5"
   ]
  },
  {
   "cell_type": "markdown",
   "metadata": {},
   "source": [
    "### Maturation and age-related clearance parameters"
   ]
  },
  {
   "cell_type": "code",
   "execution_count": 1,
   "metadata": {
    "collapsed": true
   },
   "outputs": [],
   "source": [
    "#Maturation rate\n",
    "gam <- 1 #if maturing progresses normally (i.e., cycle is 24h)\n",
    "\n",
    "#Age at which parasites start to be cleared\n",
    "x.c <-\n",
    "\n",
    "#Rate that parasites are cleared\n",
    "c <-"
   ]
  },
  {
   "cell_type": "markdown",
   "metadata": {},
   "source": [
    "### Clearance rate function"
   ]
  },
  {
   "cell_type": "code",
   "execution_count": null,
   "metadata": {
    "collapsed": true
   },
   "outputs": [],
   "source": [
    "#Maturity-dependent function describing parasite clearance rate\n",
    "C.fun <- function(x) {\n",
    "    if (x < x.c) {C = 0}\n",
    "    if (x >= x.c) {C = c}\n",
    "    \n",
    "    return(C)\n",
    "}"
   ]
  },
  {
   "cell_type": "markdown",
   "metadata": {},
   "source": [
    "### Susceptibility parameters"
   ]
  },
  {
   "cell_type": "code",
   "execution_count": null,
   "metadata": {
    "collapsed": true
   },
   "outputs": [],
   "source": [
    "#Susceptibility of donor RBCs to invasion relative to recipient (assumed to be 1)\n",
    "s.r <- 1\n",
    "s.d <- s.r*18"
   ]
  },
  {
   "cell_type": "markdown",
   "metadata": {},
   "source": [
    "### Parasite density parameters and function"
   ]
  },
  {
   "cell_type": "code",
   "execution_count": 22,
   "metadata": {
    "collapsed": true
   },
   "outputs": [],
   "source": [
    "#Mean maturity of initial parasite population\n",
    "u <- 0.2\n",
    "#SD of intitial parasite population maturity\n",
    "sig <- 1\n",
    "#maturity level of interest ()\n",
    "x <-\n",
    "#maturity level at which parasites rupture\n",
    "x.r <- 1\n",
    "\n",
    "#probability function describing intitial distribution of parasite maturities\n",
    "dist <- function(x.f, x.r.f, u.f, sig.f) { #x.f is x, x.r.f is x.r, u.f is u and sig.f is sig\n",
    "    d <- if (x.f < x.r.f) {dnorm(x.f, mean = u.f, sd = sig.f)\n",
    "                       } else if (x.f >= x.r.f) {0}\n",
    "    \n",
    "    return(d)\n",
    "}\n",
    "\n",
    "d.out <- dist(x, x.r, u, sig)\n",
    "\n",
    "#Total numbers of parasites of age x at time t\n",
    "\n",
    "P.N <- function(t, x)\n",
    "\n",
    "#Density of donor RBCs containing donor parasites, of age x, at a given time t after transfusion\n",
    "P.D <- function (t, x, B) {\n",
    "    B*P.fun(t, x)\n",
    "}\n",
    "\n",
    "#Total number of donor parasites at a given time\n",
    "P.D.bar <- function(t, x.r.f, para.d.f) {\n",
    "    p <- pnorm(x.r.f, 0, 1)\n",
    "    p.corr <- p*para.d.f\n",
    "    \n",
    "    return(p.corr)\n",
    "}"
   ]
  },
  {
   "cell_type": "markdown",
   "metadata": {},
   "source": [
    "The system has an initial density of parasites of maturity x (time t = 0) given by:"
   ]
  },
  {
   "cell_type": "code",
   "execution_count": null,
   "metadata": {
    "collapsed": true
   },
   "outputs": [],
   "source": [
    "P.int <- P0*d.out"
   ]
  },
  {
   "cell_type": "code",
   "execution_count": null,
   "metadata": {
    "collapsed": true
   },
   "outputs": [],
   "source": [
    "#Here t = 0 so P(t, x) = P(0, x) = P.fun at time t\n",
    "P.fun <- function(x.c = x.c, x = x, g = gam, t, u = u, s = sig, n = ) {\n",
    "    P.tx <- function() {\n",
    "        if ((x >= gam*t) | (x < x.c)) {P0*\n",
    "                                      }\n",
    "    }\n",
    "}"
   ]
  },
  {
   "cell_type": "markdown",
   "metadata": {},
   "source": [
    "f(x; μ, σ) is a probability density function describing the initial distribution of parasite maturities and is taken to be a truncated normal distribution with mean μ and SD σ, which is bounded by maturity level x.r (maturity at rupturing (1 in study))"
   ]
  },
  {
   "cell_type": "code",
   "execution_count": null,
   "metadata": {
    "collapsed": true
   },
   "outputs": [],
   "source": []
  }
 ],
 "metadata": {
  "kernelspec": {
   "display_name": "R",
   "language": "R",
   "name": "ir"
  },
  "language_info": {
   "codemirror_mode": "r",
   "file_extension": ".r",
   "mimetype": "text/x-r-source",
   "name": "R",
   "pygments_lexer": "r",
   "version": "3.4.1"
  }
 },
 "nbformat": 4,
 "nbformat_minor": 2
}
